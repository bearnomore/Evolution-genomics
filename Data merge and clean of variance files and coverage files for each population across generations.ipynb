{
 "cells": [
  {
   "cell_type": "code",
   "execution_count": 1,
   "metadata": {},
   "outputs": [],
   "source": [
    "import pandas as pd\n",
    "import numpy as np\n",
    "import glob\n",
    "import matplotlib.pyplot as plt\n",
    "import seaborn as sns"
   ]
  },
  {
   "cell_type": "code",
   "execution_count": 2,
   "metadata": {},
   "outputs": [],
   "source": [
    "from scipy.cluster.hierarchy import dendrogram, linkage\n",
    "from scipy.cluster.hierarchy import cophenet\n",
    "from scipy.spatial.distance import pdist\n",
    "from scipy.cluster.hierarchy import fcluster"
   ]
  },
  {
   "cell_type": "code",
   "execution_count": null,
   "metadata": {},
   "outputs": [],
   "source": [
    "# # Read coverage file for each population at each timepoint\n",
    "\n",
    "# filepath = 'G:\\\\Dropbox (Vetsigian lab)\\\\Vetsigian lab Team Folder\\\\Ye\\\\Genomics\\\\Community mutants\\\\'\n",
    "# folders = ['PopA', 'PopB', 'PopC', 'PopD', 'PopE', 'PopF', 'PopG', 'PopH']\n",
    "\n",
    "# # Coverage_popA\n",
    "# fp = filepath + folders[7] + '\\\\'\n",
    "# df = pd.read_csv(fp + 'Coverage0.csv')\n",
    "\n",
    "# for ind, file in enumerate(glob.glob(fp + 'CoverageH*.csv')):\n",
    "#     df_ = pd.read_csv(file)\n",
    "#     df = df.merge(df_, on = ['Position'], how = 'outer')\n",
    "# # df.columns = ['Position', 'A0', 'A1', 'A2', 'A3', 'A4', 'A7', 'A8'] \n",
    "# # df.columns = ['Position', 'B0', 'B1', 'B2', 'B3', 'B4', 'B6','B7', 'B8'] \n",
    "# # df.columns = ['Position', 'C0', 'C1', 'C2', 'C3', 'C4', 'C6','C7', 'C8'] \n",
    "# # df.columns = ['Position', 'D0', 'D1', 'D2', 'D3', 'D4', 'D6','D7', 'D8']\n",
    "# # df.columns = ['Position', 'E0', 'E1', 'E2', 'E3', 'E4', 'E6','E7', 'E8']\n",
    "# # df.columns = ['Position', 'F0', 'F1', 'F2', 'F3', 'F4', 'F6','F7', 'F8']\n",
    "# # df.columns = ['Position', 'G0', 'G1', 'G2', 'G3', 'G4', 'G6','G7', 'G8']\n",
    "# df.columns = ['Position', 'H0', 'H1', 'H2', 'H3', 'H4', 'H6','H7', 'H8']\n",
    "# print(len(df))\n",
    "# df.head(5)"
   ]
  },
  {
   "cell_type": "code",
   "execution_count": null,
   "metadata": {},
   "outputs": [],
   "source": [
    "## Run the blocks of functions first, and then walk through the scripts of section 1-8. \n",
    "## The related analysis of common variance shared by population A-H and timepoints 1-8 \n",
    "## is in section 8.We missed timepoint 5 for all populations and missed timepoint 6 for the popA."
   ]
  },
  {
   "cell_type": "code",
   "execution_count": 20,
   "metadata": {},
   "outputs": [],
   "source": [
    "def import_vcfs(file_path, folders, select_col_names):\n",
    "    '''\n",
    "    Inputs:\n",
    "    file_path = the main path where all files saved\n",
    "    folders = names of folders where variance files were saved by populations\n",
    "    select_col_names = names of selected columns from the original data \n",
    "    \n",
    "    Outputs:\n",
    "    VCFs = dictionary of lists. Keys of dictionary are the population labels and each key directs to the dataframe list across timepoints\n",
    "    Pop_gens = dictionary of lists. Keys of dictionary are the population labels and each key directs to the list of generation name\n",
    "    '''\n",
    "    VCFs = dict()\n",
    "    Pop_Gens = dict()\n",
    "    for fd in folders:\n",
    "        VCFs[fd] = list()\n",
    "        Pop_Gens[fd] = list()\n",
    "        for file in glob.glob(file_path + fd + \"\\\\CMT*.csv\"):\n",
    "#             print(file)\n",
    "            gen = file.split(\"CM\")[1][1:3]\n",
    "#             gen = file.split(\"CM\")[3][1:3]\n",
    "            Pop_Gens[fd].append(gen)               \n",
    "            vcf = pd.read_csv(file, low_memory=False)\n",
    "            vcf = vcf.loc[vcf['Average Quality'] > 25]\n",
    "            vcf = vcf[select_col_names]\n",
    "            vcf[gen + ' VF'] = vcf['Variant Frequency'].apply(lambda x: float(x.split('%')[0])/100)\n",
    "            vcf = vcf.drop('Variant Frequency', axis =1)\n",
    "            vcf[gen + ' Coverage'] = vcf['Coverage'].apply(lambda x: int(x.split('->')[0]))       \n",
    "            vcf = vcf.drop('Coverage', axis =1)\n",
    "            vcf = vcf.loc[vcf[gen + ' Coverage'] > 10] \n",
    "#             vcf['Minimum'].astype(int)\n",
    "#             vcf['Maximum'].astype(int)\n",
    "            VCFs[fd].append(vcf)\n",
    "\n",
    "    return VCFs, Pop_Gens"
   ]
  },
  {
   "cell_type": "code",
   "execution_count": 4,
   "metadata": {},
   "outputs": [],
   "source": [
    "def merge_vcfs(VCFs, pop_lab):\n",
    "    '''\n",
    "    Inputs:\n",
    "    VCFs = imported variance files of all populations across all time points by import_vcfs()\n",
    "    pop_labels = population label (e.g. 'A')\n",
    "    \n",
    "    Outputs:\n",
    "    vcf_cmt = the merged vcfs across timepoints for the indicated population\n",
    "    '''\n",
    "    col_names = ['Name', 'Minimum', 'Maximum','Sequence','locus_tag', 'Protein Effect', 'note']\n",
    "    vcfs = VCFs[pop_lab]\n",
    "    vcf_cmt = vcfs[1]\n",
    "    for df in vcfs[2:]:\n",
    "        vcf_cmt = vcf_cmt.merge(df, on= col_names, how = 'outer')\n",
    "#     col_VF = vcf_cmt.columns[7::2]\n",
    "#     col_cov = vcf_cmt.columns[8::2]\n",
    "#     vcf_cmt[col_VF] = vcf_cmt[col_VF].fillna(0)\n",
    "#     vcf_cmt[col_cov] = vcf_cmt[col_cov].fillna(0)\n",
    "#     vcf_cmt = vcf_cmt.drop(col_cov,axis = 1)\n",
    "    vcf_cmt['locus_tag'] = vcf_cmt['locus_tag'].fillna('Intergenetic region')\n",
    "#     mask_str1 = vcf_cmt['Minimum'].apply(lambda x: isinstance(x, str))\n",
    "#     vcf_cmt.loc[mask_str1, 'Minimum'] = vcf_cmt.loc[mask_str1,'Minimum'].astype(int)\n",
    "\n",
    "#     mask_str2 = vcf_cmt['Maximum'].apply(lambda x: isinstance(x, str))\n",
    "#     vcf_cmt.loc[mask_str2, 'Maximum'] = vcf_cmt.loc[mask_str2,'Maximum'].astype(int)\n",
    "    return vcf_cmt"
   ]
  },
  {
   "cell_type": "code",
   "execution_count": 5,
   "metadata": {},
   "outputs": [],
   "source": [
    "def location_reverse(rep_vcfs):\n",
    "    # Some genes are reversely transcribed from 3' to 5' on the chromosome. Variances found in these genes\n",
    "    # have the \"Minimum\" location > \"Maximum\" location. For the consistency of the following analysis, the \n",
    "    # \"Minimum\" and \"Maximum\" values of these variances are reversed. \n",
    "    '''\n",
    "    Inputs:\n",
    "    rep_vcfs =  the merged vcfs across timepoints for the indicated population generated by merge_vcfs_by_repeats()\n",
    "    \n",
    "    Outputs:\n",
    "    rep_vcfs that have the \"Minimum\", \"Maximum\" corrected\n",
    "    '''\n",
    "    vcf_reverse = rep_vcfs[[\"Minimum\", \"Maximum\"]]. where(rep_vcfs[\"Minimum\"] > rep_vcfs[\"Maximum\"]).dropna()\n",
    "    row_ind = vcf_reverse.index\n",
    "    rep_vcfs.loc[row_ind, \"Minimum\"] = vcf_reverse[\"Maximum\"]\n",
    "    rep_vcfs.loc[row_ind, \"Maximum\"] = vcf_reverse[\"Minimum\"]\n",
    "    #vcf.drop(\"index\", axis = 1)\n",
    "    #vcf = vcf.set_index(['Minimum','Maximum', 'Name'])\n",
    "    return rep_vcfs"
   ]
  },
  {
   "cell_type": "code",
   "execution_count": 21,
   "metadata": {},
   "outputs": [],
   "source": [
    "path = 'G:\\\\Dropbox (Vetsigian lab)\\\\Vetsigian lab Team Folder\\\\Ye\\\\Genomics\\\\'\n",
    "# path = 'E:\\\\CMT_project\\\\CMT project\\\\'\n",
    "genomic_table_coelicolor = pd.read_csv(path + 'genomic_table_coelicolor.csv')\n",
    "path = 'G:\\\\Dropbox (Vetsigian lab)\\\\Vetsigian lab Team Folder\\\\Ye\\Genomics\\\\Community mutants\\\\antiSMASH_Streptomyces_coelicolor\\\\'\n",
    "# path = 'E:\\\\CMT_project\\\\CMT project\\\\'\n",
    "filename = 'index.html'\n",
    "cluster_info = pd.read_html(path+filename)[0].drop(0)"
   ]
  },
  {
   "cell_type": "code",
   "execution_count": 22,
   "metadata": {},
   "outputs": [],
   "source": [
    "## Change the pathway where your vcfs are saved\n",
    "# file_path = 'E:\\\\CMT_project\\\\CMT project\\\\' \n",
    "file_path = 'G:\\\\Dropbox (Vetsigian lab)\\\\Vetsigian lab Team Folder\\\\Ye\\Genomics\\\\Community mutants\\\\'\n",
    "# file_path = 'E:\\\\CMT_project\\\\CMT project\\\\'\n",
    "folders = ['PopA', 'PopB', 'PopC', 'PopD', 'PopE', 'PopF', 'PopG', 'PopH']\n",
    "select_col_names = ['Name', 'Minimum', 'Maximum','Sequence','locus_tag', \n",
    "                    'Protein Effect',  'note', 'Variant Frequency', 'Coverage']\n",
    "# Quick look at what files in these folders\n",
    "# for fd in folders:\n",
    "#     for file in glob.glob(file_path + fd + \"\\\\CMT*.csv\"):\n",
    "#         print(file)"
   ]
  },
  {
   "cell_type": "code",
   "execution_count": 23,
   "metadata": {},
   "outputs": [],
   "source": [
    "## Data Minining using the above functions##\n",
    "# 1. Import all files and organize by population labels \"A\", \"B\", \"C\", etc\n",
    "VCFs, Pop_gens = import_vcfs(file_path, folders, select_col_names)"
   ]
  },
  {
   "cell_type": "code",
   "execution_count": 24,
   "metadata": {},
   "outputs": [
    {
     "data": {
      "text/plain": [
       "{'PopA': [104, 119, 93, 83, 123, 124, 126],\n",
       " 'PopB': [104, 141, 101, 121, 144, 124, 160, 221706],\n",
       " 'PopC': [104, 118, 113, 120, 154, 155, 126, 138],\n",
       " 'PopD': [104, 137, 100, 117, 152, 147, 145, 281],\n",
       " 'PopE': [104, 147, 99, 118, 142, 140, 124, 228609],\n",
       " 'PopF': [104, 151, 107, 121, 150, 124, 128, 217699],\n",
       " 'PopG': [104, 144, 101, 102, 150, 138, 113, 167487],\n",
       " 'PopH': [104, 152, 97, 94, 126, 139, 137, 221706]}"
      ]
     },
     "execution_count": 24,
     "metadata": {},
     "output_type": "execute_result"
    }
   ],
   "source": [
    "VCFs['PopD'][1].head(3)\n",
    "num_var = dict()\n",
    "for pop in folders:\n",
    "    num_var[pop] = list(map(lambda x:len(VCFs[pop][x]), range(len(VCFs[pop]))))\n",
    "    \n",
    "num_var\n",
    "# Pop_gens['PopB']"
   ]
  },
  {
   "cell_type": "code",
   "execution_count": 30,
   "metadata": {},
   "outputs": [],
   "source": [
    "# 2. Reorganize the VCFs and merge vcfs across timepoints for each repeat (e.g.merge T1, T2 to T8 for population A)\n",
    "vcfs_A = merge_vcfs(VCFs, 'PopA')\n",
    "vcfs_B = merge_vcfs(VCFs, 'PopB')\n",
    "vcfs_C = merge_vcfs(VCFs, 'PopC')\n",
    "vcfs_D = merge_vcfs(VCFs, 'PopD')\n",
    "vcfs_E = merge_vcfs(VCFs, 'PopE')\n",
    "vcfs_F = merge_vcfs(VCFs, 'PopF')\n",
    "vcfs_G = merge_vcfs(VCFs, 'PopG')\n",
    "vcfs_H = merge_vcfs(VCFs, 'PopH')"
   ]
  },
  {
   "cell_type": "code",
   "execution_count": 31,
   "metadata": {},
   "outputs": [
    {
     "name": "stdout",
     "output_type": "stream",
     "text": [
      "220 221976 305 569 228854 217912 167635 221976\n"
     ]
    }
   ],
   "source": [
    "# Check the size of variance of each population\n",
    "print(len(vcfs_A), len(vcfs_B), len(vcfs_C), len(vcfs_D), len(vcfs_E), len(vcfs_F), len(vcfs_G), len(vcfs_H))\n",
    "\n",
    "mask_str = vcfs_D['Minimum'] == '<8267251'\n",
    "vcfs_D.loc[mask_str, 'Minimum'] = int(8267248)\n",
    "\n",
    "mask_str1 = vcfs_D['Minimum'].apply(lambda x: isinstance(x, str))\n",
    "vcfs_D.loc[mask_str1, 'Minimum'] = vcfs_D.loc[mask_str1,'Minimum'].astype(int)\n",
    "mask_str2 = vcfs_D['Maximum'].apply(lambda x: isinstance(x, str))\n",
    "vcfs_D.loc[mask_str2, 'Maximum'] = vcfs_D.loc[mask_str2,'Maximum'].astype(int)"
   ]
  },
  {
   "cell_type": "code",
   "execution_count": 32,
   "metadata": {},
   "outputs": [
    {
     "data": {
      "text/plain": [
       "Index(['1D VF', '2D VF', '3D VF', '4D VF', '6D VF', '7D VF'], dtype='object')"
      ]
     },
     "execution_count": 32,
     "metadata": {},
     "output_type": "execute_result"
    }
   ],
   "source": [
    "colnames = vcfs_D.columns\n",
    "colnames[7::2][0:-1]"
   ]
  },
  {
   "cell_type": "code",
   "execution_count": 33,
   "metadata": {},
   "outputs": [
    {
     "data": {
      "text/plain": [
       "Text(0,0.5,'number of variances')"
      ]
     },
     "execution_count": 33,
     "metadata": {},
     "output_type": "execute_result"
    },
    {
     "data": {
      "image/png": "[encoded data removed]",
      "text/plain": [
       "<matplotlib.figure.Figure at 0x91d63e94a8>"
      ]
     },
     "metadata": {},
     "output_type": "display_data"
    }
   ],
   "source": [
    "plt.figure(figsize = [6,6])\n",
    "for i, vcf in enumerate([vcfs_A, vcfs_B, vcfs_C, vcfs_D, vcfs_E, vcfs_F, vcfs_G, vcfs_H]):\n",
    "    col_names = vcf.columns\n",
    "    col_vf_names = col_names[7::2][0:-1]\n",
    "    num_var_t = np.sum(vcf[col_vf_names] > 0)\n",
    "    gen = [int(x) for x in num_var_t.index.str[0]]\n",
    "    plt.plot(gen, num_var_t, lw = 2)\n",
    "    \n",
    "plt.legend(folders, loc = [1.05, 0.2])\n",
    "plt.xlabel('generation', size = 12)\n",
    "plt.ylabel('number of variances', size = 12)"
   ]
  },
  {
   "cell_type": "code",
   "execution_count": 34,
   "metadata": {},
   "outputs": [
    {
     "name": "stdout",
     "output_type": "stream",
     "text": [
      "Before correction, there are 55 reversed SNPs locations in vcfs_A\n",
      "Before correction, there are 1239 reversed SNPs locations in vcfs_B\n",
      "Before correction, there are 84 reversed SNPs locations in vcfs_C\n",
      "Before correction, there are 107 reversed SNPs locations in vcfs_D\n",
      "Before correction, there are 1265 reversed SNPs locations in vcfs_E\n",
      "Before correction, there are 779 reversed SNPs locations in vcfs_F\n",
      "Before correction, there are 454 reversed SNPs locations in vcfs_G\n",
      "Before correction, there are 1218 reversed SNPs locations in vcfs_H\n",
      "After correction, there are 0 reversed SNPs locations in vcfs_A\n",
      "After correction, there are 0 reversed SNPs locations in vcfs_B\n",
      "After correction, there are 0 reversed SNPs locations in vcfs_C\n",
      "After correction, there are 0 reversed SNPs locations in vcfs_D\n",
      "After correction, there are 0 reversed SNPs locations in vcfs_E\n",
      "After correction, there are 0 reversed SNPs locations in vcfs_F\n",
      "After correction, there are 0 reversed SNPs locations in vcfs_G\n",
      "After correction, there are 0 reversed SNPs locations in vcfs_H\n"
     ]
    }
   ],
   "source": [
    "# 3. Correct the \"Minimum\", \"Maximum\" of variances that are located in reverse transcribed genes\n",
    "# Before correction:\n",
    "num_reverseA1 = str(np.sum(vcfs_A[\"Minimum\"] > vcfs_A[\"Maximum\"]))\n",
    "num_reverseB1 = str(np.sum(vcfs_B[\"Minimum\"] > vcfs_B[\"Maximum\"]))\n",
    "num_reverseC1 = str(np.sum(vcfs_C[\"Minimum\"] > vcfs_C[\"Maximum\"]))\n",
    "num_reverseD1 = str(np.sum(vcfs_D[\"Minimum\"] > vcfs_D[\"Maximum\"]))\n",
    "num_reverseE1 = str(np.sum(vcfs_E[\"Minimum\"] > vcfs_E[\"Maximum\"]))\n",
    "num_reverseF1 = str(np.sum(vcfs_F[\"Minimum\"] > vcfs_F[\"Maximum\"]))\n",
    "num_reverseG1 = str(np.sum(vcfs_G[\"Minimum\"] > vcfs_G[\"Maximum\"]))\n",
    "num_reverseH1 = str(np.sum(vcfs_H[\"Minimum\"] > vcfs_H[\"Maximum\"]))\n",
    "\n",
    "print(\"Before correction, there are {0} reversed SNPs locations in {1}\".format(num_reverseA1, \"vcfs_A\"))\n",
    "print(\"Before correction, there are {0} reversed SNPs locations in {1}\".format(num_reverseB1, \"vcfs_B\"))\n",
    "print(\"Before correction, there are {0} reversed SNPs locations in {1}\".format(num_reverseC1, \"vcfs_C\"))\n",
    "print(\"Before correction, there are {0} reversed SNPs locations in {1}\".format(num_reverseD1, \"vcfs_D\"))\n",
    "print(\"Before correction, there are {0} reversed SNPs locations in {1}\".format(num_reverseE1, \"vcfs_E\"))\n",
    "print(\"Before correction, there are {0} reversed SNPs locations in {1}\".format(num_reverseF1, \"vcfs_F\"))\n",
    "print(\"Before correction, there are {0} reversed SNPs locations in {1}\".format(num_reverseG1, \"vcfs_G\"))\n",
    "print(\"Before correction, there are {0} reversed SNPs locations in {1}\".format(num_reverseH1, \"vcfs_H\"))\n",
    "\n",
    "\n",
    "vcfs_A_ = location_reverse(vcfs_A)\n",
    "vcfs_B_ = location_reverse(vcfs_B)\n",
    "vcfs_C_ = location_reverse(vcfs_C)\n",
    "vcfs_D_ = location_reverse(vcfs_D)\n",
    "vcfs_E_ = location_reverse(vcfs_E)\n",
    "vcfs_F_ = location_reverse(vcfs_F)\n",
    "vcfs_G_ = location_reverse(vcfs_G)\n",
    "vcfs_H_ = location_reverse(vcfs_H)\n",
    "# # Check if it worked right\n",
    "\n",
    "num_reverseA2 = str(np.sum(vcfs_A_[\"Minimum\"] > vcfs_A_[\"Maximum\"]))\n",
    "num_reverseB2 = str(np.sum(vcfs_B_[\"Minimum\"] > vcfs_B_[\"Maximum\"]))\n",
    "num_reverseC2 = str(np.sum(vcfs_C_[\"Minimum\"] > vcfs_C_[\"Maximum\"]))\n",
    "num_reverseD2 = str(np.sum(vcfs_D_[\"Minimum\"] > vcfs_D_[\"Maximum\"]))\n",
    "num_reverseE2 = str(np.sum(vcfs_E_[\"Minimum\"] > vcfs_E_[\"Maximum\"]))\n",
    "num_reverseF2 = str(np.sum(vcfs_F_[\"Minimum\"] > vcfs_F_[\"Maximum\"]))\n",
    "num_reverseG2 = str(np.sum(vcfs_G_[\"Minimum\"] > vcfs_G_[\"Maximum\"]))\n",
    "num_reverseH2 = str(np.sum(vcfs_H_[\"Minimum\"] > vcfs_H_[\"Maximum\"]))\n",
    "\n",
    "print(\"After correction, there are {0} reversed SNPs locations in {1}\".format(num_reverseA2, \"vcfs_A\"))\n",
    "print(\"After correction, there are {0} reversed SNPs locations in {1}\".format(num_reverseB2, \"vcfs_B\"))\n",
    "print(\"After correction, there are {0} reversed SNPs locations in {1}\".format(num_reverseC2, \"vcfs_C\"))\n",
    "print(\"After correction, there are {0} reversed SNPs locations in {1}\".format(num_reverseD2, \"vcfs_D\"))\n",
    "print(\"After correction, there are {0} reversed SNPs locations in {1}\".format(num_reverseE2, \"vcfs_E\"))\n",
    "print(\"After correction, there are {0} reversed SNPs locations in {1}\".format(num_reverseF2, \"vcfs_F\"))\n",
    "print(\"After correction, there are {0} reversed SNPs locations in {1}\".format(num_reverseG2, \"vcfs_G\"))\n",
    "print(\"After correction, there are {0} reversed SNPs locations in {1}\".format(num_reverseH2, \"vcfs_H\"))"
   ]
  },
  {
   "cell_type": "code",
   "execution_count": 36,
   "metadata": {},
   "outputs": [],
   "source": [
    "# Save the corected and merged vcfs for each population\n",
    "savepath = 'G:\\\\Dropbox (Vetsigian lab)\\\\Vetsigian lab Team Folder\\\\Ye\\\\Genomics\\\\Community mutants\\\\'\n",
    "savefolders = ['PopA', 'PopB', 'PopC', 'PopD', 'PopE', 'PopF', 'PopG', 'PopH']\n",
    "vcfs_A.to_csv(savepath + savefolders[0] + '\\\\vcfs_A.csv')\n",
    "vcfs_B.to_csv(savepath + savefolders[1] + '\\\\vcfs_B.csv')\n",
    "vcfs_C.to_csv(savepath + savefolders[2] + '\\\\vcfs_C.csv')\n",
    "vcfs_D.to_csv(savepath + savefolders[3] + '\\\\vcfs_D.csv')\n",
    "vcfs_E.to_csv(savepath + savefolders[4] + '\\\\vcfs_E.csv')\n",
    "vcfs_F.to_csv(savepath + savefolders[5] + '\\\\vcfs_F.csv')\n",
    "vcfs_G.to_csv(savepath + savefolders[6] + '\\\\vcfs_G.csv')\n",
    "vcfs_H.to_csv(savepath + savefolders[7] + '\\\\vcfs_H.csv')"
   ]
  }
 ],
 "metadata": {
  "kernelspec": {
   "display_name": "Python 3",
   "language": "python",
   "name": "python3"
  },
  "language_info": {
   "codemirror_mode": {
    "name": "ipython",
    "version": 3
   },
   "file_extension": ".py",
   "mimetype": "text/x-python",
   "name": "python",
   "nbconvert_exporter": "python",
   "pygments_lexer": "ipython3",
   "version": "3.6.4"
  }
 },
 "nbformat": 4,
 "nbformat_minor": 2
}
