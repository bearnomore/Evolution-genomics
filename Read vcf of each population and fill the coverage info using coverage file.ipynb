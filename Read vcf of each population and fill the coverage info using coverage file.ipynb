{
 "cells": [
  {
   "cell_type": "code",
   "execution_count": 1,
   "metadata": {},
   "outputs": [],
   "source": [
    "import pandas as pd\n",
    "import numpy as np\n",
    "import glob\n",
    "import matplotlib.pyplot as plt\n",
    "import seaborn as sns\n",
    "from scipy.cluster.hierarchy import dendrogram, linkage\n",
    "from scipy.cluster.hierarchy import cophenet\n",
    "from scipy.spatial.distance import pdist\n",
    "from scipy.cluster.hierarchy import fcluster"
   ]
  },
  {
   "cell_type": "code",
   "execution_count": 2,
   "metadata": {},
   "outputs": [],
   "source": [
    "# Read vcf and coverage file for each population\n",
    "filepath = 'G:\\\\Dropbox (Vetsigian lab)\\\\Vetsigian lab Team Folder\\\\Ye\\\\Genomics\\\\Community mutants\\\\'\n",
    "folders = ['PopA', 'PopB', 'PopC', 'PopD', 'PopE', 'PopF', 'PopG', 'PopH']\n",
    "vcfA = pd.read_csv(filepath + folders[0] + '\\\\vcfs_A.csv')\n",
    "covA = pd.read_csv(filepath + folders[0] + '\\\\coverage_popA.csv')\n",
    "\n",
    "vcfB = pd.read_csv(filepath + folders[1] + '\\\\vcfs_B.csv')\n",
    "covB = pd.read_csv(filepath + folders[1] + '\\\\coverage_popB.csv')\n",
    "\n",
    "vcfC = pd.read_csv(filepath + folders[2] + '\\\\vcfs_C.csv')\n",
    "covC = pd.read_csv(filepath + folders[2] + '\\\\coverage_popC.csv')\n",
    "\n",
    "vcfD = pd.read_csv(filepath + folders[3] + '\\\\vcfs_D.csv')\n",
    "covD = pd.read_csv(filepath + folders[3] + '\\\\coverage_popD.csv')\n",
    "\n",
    "vcfE = pd.read_csv(filepath + folders[4] + '\\\\vcfs_E.csv')\n",
    "covE = pd.read_csv(filepath + folders[4] + '\\\\coverage_popE.csv')\n",
    "\n",
    "vcfF = pd.read_csv(filepath + folders[5] + '\\\\vcfs_F.csv')\n",
    "covF = pd.read_csv(filepath + folders[5] + '\\\\coverage_popF.csv')\n",
    "\n",
    "vcfG = pd.read_csv(filepath + folders[6] + '\\\\vcfs_G.csv')\n",
    "covG = pd.read_csv(filepath + folders[6] + '\\\\coverage_popG.csv')\n",
    "\n",
    "vcfH = pd.read_csv(filepath + folders[7] + '\\\\vcfs_H.csv')\n",
    "covH = pd.read_csv(filepath + folders[7] + '\\\\coverage_popH.csv')"
   ]
  },
  {
   "cell_type": "code",
   "execution_count": 3,
   "metadata": {},
   "outputs": [
    {
     "data": {
      "text/html": [
       "<div>\n",
       "<style scoped>\n",
       "    .dataframe tbody tr th:only-of-type {\n",
       "        vertical-align: middle;\n",
       "    }\n",
       "\n",
       "    .dataframe tbody tr th {\n",
       "        vertical-align: top;\n",
       "    }\n",
       "\n",
       "    .dataframe thead th {\n",
       "        text-align: right;\n",
       "    }\n",
       "</style>\n",
       "<table border=\"1\" class=\"dataframe\">\n",
       "  <thead>\n",
       "    <tr style=\"text-align: right;\">\n",
       "      <th></th>\n",
       "      <th>Unnamed: 0</th>\n",
       "      <th>Name</th>\n",
       "      <th>Minimum</th>\n",
       "      <th>Maximum</th>\n",
       "      <th>Sequence</th>\n",
       "      <th>locus_tag</th>\n",
       "      <th>Protein Effect</th>\n",
       "      <th>note</th>\n",
       "      <th>1H VF</th>\n",
       "      <th>1H Coverage</th>\n",
       "      <th>...</th>\n",
       "      <th>3H VF</th>\n",
       "      <th>3H Coverage</th>\n",
       "      <th>4H VF</th>\n",
       "      <th>4H Coverage</th>\n",
       "      <th>6H VF</th>\n",
       "      <th>6H Coverage</th>\n",
       "      <th>7H VF</th>\n",
       "      <th>7H Coverage</th>\n",
       "      <th>8H VF</th>\n",
       "      <th>8H Coverage</th>\n",
       "    </tr>\n",
       "  </thead>\n",
       "  <tbody>\n",
       "    <tr>\n",
       "      <th>0</th>\n",
       "      <td>0</td>\n",
       "      <td>G</td>\n",
       "      <td>104233.0</td>\n",
       "      <td>104233.0</td>\n",
       "      <td>A</td>\n",
       "      <td>SCO0124</td>\n",
       "      <td>None</td>\n",
       "      <td>SCJ21.05, unknown, len: 453 aa; similar in par...</td>\n",
       "      <td>0.962</td>\n",
       "      <td>53.0</td>\n",
       "      <td>...</td>\n",
       "      <td>0.979</td>\n",
       "      <td>48.0</td>\n",
       "      <td>1.0</td>\n",
       "      <td>60.0</td>\n",
       "      <td>1.000</td>\n",
       "      <td>57.0</td>\n",
       "      <td>1.00</td>\n",
       "      <td>78.0</td>\n",
       "      <td>NaN</td>\n",
       "      <td>NaN</td>\n",
       "    </tr>\n",
       "    <tr>\n",
       "      <th>1</th>\n",
       "      <td>1</td>\n",
       "      <td>G</td>\n",
       "      <td>603360.0</td>\n",
       "      <td>603360.0</td>\n",
       "      <td>A</td>\n",
       "      <td>Intergenetic region</td>\n",
       "      <td>NaN</td>\n",
       "      <td>NaN</td>\n",
       "      <td>0.963</td>\n",
       "      <td>54.0</td>\n",
       "      <td>...</td>\n",
       "      <td>1.000</td>\n",
       "      <td>52.0</td>\n",
       "      <td>1.0</td>\n",
       "      <td>50.0</td>\n",
       "      <td>0.986</td>\n",
       "      <td>71.0</td>\n",
       "      <td>1.00</td>\n",
       "      <td>89.0</td>\n",
       "      <td>NaN</td>\n",
       "      <td>NaN</td>\n",
       "    </tr>\n",
       "    <tr>\n",
       "      <th>2</th>\n",
       "      <td>2</td>\n",
       "      <td>G</td>\n",
       "      <td>619172.0</td>\n",
       "      <td>619172.0</td>\n",
       "      <td>C</td>\n",
       "      <td>SCO0577</td>\n",
       "      <td>None</td>\n",
       "      <td>SCF55.01c, hypothetical protein, len: &gt;231 aa;...</td>\n",
       "      <td>1.000</td>\n",
       "      <td>37.0</td>\n",
       "      <td>...</td>\n",
       "      <td>0.984</td>\n",
       "      <td>62.0</td>\n",
       "      <td>1.0</td>\n",
       "      <td>54.0</td>\n",
       "      <td>0.987</td>\n",
       "      <td>79.0</td>\n",
       "      <td>0.99</td>\n",
       "      <td>104.0</td>\n",
       "      <td>NaN</td>\n",
       "      <td>NaN</td>\n",
       "    </tr>\n",
       "    <tr>\n",
       "      <th>3</th>\n",
       "      <td>3</td>\n",
       "      <td>G</td>\n",
       "      <td>619978.0</td>\n",
       "      <td>619978.0</td>\n",
       "      <td>C</td>\n",
       "      <td>SCO0578</td>\n",
       "      <td>None</td>\n",
       "      <td>SCF55.02c, possible triosephosphate isomerase,...</td>\n",
       "      <td>1.000</td>\n",
       "      <td>29.0</td>\n",
       "      <td>...</td>\n",
       "      <td>NaN</td>\n",
       "      <td>NaN</td>\n",
       "      <td>1.0</td>\n",
       "      <td>25.0</td>\n",
       "      <td>NaN</td>\n",
       "      <td>NaN</td>\n",
       "      <td>NaN</td>\n",
       "      <td>NaN</td>\n",
       "      <td>NaN</td>\n",
       "      <td>NaN</td>\n",
       "    </tr>\n",
       "  </tbody>\n",
       "</table>\n",
       "<p>4 rows × 22 columns</p>\n",
       "</div>"
      ],
      "text/plain": [
       "   Unnamed: 0 Name   Minimum   Maximum Sequence            locus_tag  \\\n",
       "0           0    G  104233.0  104233.0        A              SCO0124   \n",
       "1           1    G  603360.0  603360.0        A  Intergenetic region   \n",
       "2           2    G  619172.0  619172.0        C              SCO0577   \n",
       "3           3    G  619978.0  619978.0        C              SCO0578   \n",
       "\n",
       "  Protein Effect                                               note  1H VF  \\\n",
       "0           None  SCJ21.05, unknown, len: 453 aa; similar in par...  0.962   \n",
       "1            NaN                                                NaN  0.963   \n",
       "2           None  SCF55.01c, hypothetical protein, len: >231 aa;...  1.000   \n",
       "3           None  SCF55.02c, possible triosephosphate isomerase,...  1.000   \n",
       "\n",
       "   1H Coverage     ...       3H VF  3H Coverage  4H VF  4H Coverage  6H VF  \\\n",
       "0         53.0     ...       0.979         48.0    1.0         60.0  1.000   \n",
       "1         54.0     ...       1.000         52.0    1.0         50.0  0.986   \n",
       "2         37.0     ...       0.984         62.0    1.0         54.0  0.987   \n",
       "3         29.0     ...         NaN          NaN    1.0         25.0    NaN   \n",
       "\n",
       "   6H Coverage  7H VF  7H Coverage  8H VF  8H Coverage  \n",
       "0         57.0   1.00         78.0    NaN          NaN  \n",
       "1         71.0   1.00         89.0    NaN          NaN  \n",
       "2         79.0   0.99        104.0    NaN          NaN  \n",
       "3          NaN    NaN          NaN    NaN          NaN  \n",
       "\n",
       "[4 rows x 22 columns]"
      ]
     },
     "execution_count": 3,
     "metadata": {},
     "output_type": "execute_result"
    }
   ],
   "source": [
    "vcfH.head(4)"
   ]
  },
  {
   "cell_type": "code",
   "execution_count": 4,
   "metadata": {},
   "outputs": [
    {
     "data": {
      "text/html": [
       "<div>\n",
       "<style scoped>\n",
       "    .dataframe tbody tr th:only-of-type {\n",
       "        vertical-align: middle;\n",
       "    }\n",
       "\n",
       "    .dataframe tbody tr th {\n",
       "        vertical-align: top;\n",
       "    }\n",
       "\n",
       "    .dataframe thead th {\n",
       "        text-align: right;\n",
       "    }\n",
       "</style>\n",
       "<table border=\"1\" class=\"dataframe\">\n",
       "  <thead>\n",
       "    <tr style=\"text-align: right;\">\n",
       "      <th></th>\n",
       "      <th>Unnamed: 0</th>\n",
       "      <th>Position</th>\n",
       "      <th>H0</th>\n",
       "      <th>H1</th>\n",
       "      <th>H2</th>\n",
       "      <th>H3</th>\n",
       "      <th>H4</th>\n",
       "      <th>H6</th>\n",
       "      <th>H7</th>\n",
       "      <th>H8</th>\n",
       "    </tr>\n",
       "  </thead>\n",
       "  <tbody>\n",
       "    <tr>\n",
       "      <th>0</th>\n",
       "      <td>0</td>\n",
       "      <td>1</td>\n",
       "      <td>0.0</td>\n",
       "      <td>0.0</td>\n",
       "      <td>0.0</td>\n",
       "      <td>0.0</td>\n",
       "      <td>0.0</td>\n",
       "      <td>0.0</td>\n",
       "      <td>0.0</td>\n",
       "      <td>0.0</td>\n",
       "    </tr>\n",
       "    <tr>\n",
       "      <th>1</th>\n",
       "      <td>1</td>\n",
       "      <td>2</td>\n",
       "      <td>0.0</td>\n",
       "      <td>0.0</td>\n",
       "      <td>0.0</td>\n",
       "      <td>0.0</td>\n",
       "      <td>0.0</td>\n",
       "      <td>0.0</td>\n",
       "      <td>0.0</td>\n",
       "      <td>0.0</td>\n",
       "    </tr>\n",
       "    <tr>\n",
       "      <th>2</th>\n",
       "      <td>2</td>\n",
       "      <td>3</td>\n",
       "      <td>0.0</td>\n",
       "      <td>0.0</td>\n",
       "      <td>0.0</td>\n",
       "      <td>0.0</td>\n",
       "      <td>0.0</td>\n",
       "      <td>0.0</td>\n",
       "      <td>0.0</td>\n",
       "      <td>0.0</td>\n",
       "    </tr>\n",
       "    <tr>\n",
       "      <th>3</th>\n",
       "      <td>3</td>\n",
       "      <td>4</td>\n",
       "      <td>0.0</td>\n",
       "      <td>0.0</td>\n",
       "      <td>0.0</td>\n",
       "      <td>0.0</td>\n",
       "      <td>0.0</td>\n",
       "      <td>0.0</td>\n",
       "      <td>0.0</td>\n",
       "      <td>0.0</td>\n",
       "    </tr>\n",
       "  </tbody>\n",
       "</table>\n",
       "</div>"
      ],
      "text/plain": [
       "   Unnamed: 0  Position   H0   H1   H2   H3   H4   H6   H7   H8\n",
       "0           0         1  0.0  0.0  0.0  0.0  0.0  0.0  0.0  0.0\n",
       "1           1         2  0.0  0.0  0.0  0.0  0.0  0.0  0.0  0.0\n",
       "2           2         3  0.0  0.0  0.0  0.0  0.0  0.0  0.0  0.0\n",
       "3           3         4  0.0  0.0  0.0  0.0  0.0  0.0  0.0  0.0"
      ]
     },
     "execution_count": 4,
     "metadata": {},
     "output_type": "execute_result"
    }
   ],
   "source": [
    "covH.head(4)"
   ]
  },
  {
   "cell_type": "code",
   "execution_count": 5,
   "metadata": {},
   "outputs": [],
   "source": [
    "def fill_coverage_info_in_vcfs(vcf, coverage_file):\n",
    "    '''\n",
    "    Inputs:\n",
    "    vcf = variance file of the query population (i.e. 'vcfs_A') where variance frequency and corresponding coverage \n",
    "          at certain generation need to be filled using information from coverage file\n",
    "    coverage_file = the coverage at each postion for teh query population across the generations\n",
    "    \n",
    "    Output:\n",
    "    vcf = variance file of the query population where the coverage info of the population was filled  \n",
    "    '''\n",
    "    colnames_vcf = vcf.columns\n",
    "    colvf = colnames_vcf[8::2]\n",
    "    colcov = colnames_vcf[9::2]\n",
    "\n",
    "    colnames_cov = coverage_file.columns\n",
    "    colcov_ = colnames_cov[3:]\n",
    "\n",
    "    for col, col_ in zip(colcov, colcov_):\n",
    "        mask = vcf[col].isna()\n",
    "        min_pos = vcf.loc[mask]['Minimum']\n",
    "        max_pos = vcf.loc[mask]['Maximum']\n",
    "        range_pos = [np.arange(l,r+1,1) for l,r in zip(min_pos, max_pos)]\n",
    "        coverage_mean = []\n",
    "        for pos in range_pos:\n",
    "            pos_mask = coverage_file['Position'].isin(pos)\n",
    "            coverage = coverage_file.loc[pos_mask][col_]\n",
    "            coverage_mean.append(round(np.mean(coverage), 0))\n",
    "        vcf.loc[mask, col] = coverage_mean\n",
    "\n",
    "    vcf[colvf] = vcf[colvf].fillna(0)\n",
    "    for colc, colv in zip(colcov, colvf):\n",
    "        cov0_mask = np.sum(vcf[[colv, colc]], axis =1) == 0\n",
    "        vcf.loc[cov0_mask, colv] = np.nan\n",
    "    vcf = vcf.drop(colnames_vcf[0], axis = 1)\n",
    "    return vcf"
   ]
  },
  {
   "cell_type": "code",
   "execution_count": 10,
   "metadata": {},
   "outputs": [],
   "source": [
    "savepath = 'G:\\\\Dropbox (Vetsigian lab)\\\\Vetsigian lab Team Folder\\\\Ye\\\\Genomics\\\\Community mutants\\\\'\n",
    "folders = ['PopA', 'PopB', 'PopC', 'PopD', 'PopE', 'PopF', 'PopG', 'PopH']"
   ]
  },
  {
   "cell_type": "code",
   "execution_count": 19,
   "metadata": {},
   "outputs": [
    {
     "data": {
      "text/plain": [
       "221976"
      ]
     },
     "execution_count": 19,
     "metadata": {},
     "output_type": "execute_result"
    }
   ],
   "source": [
    "len(vcfB)"
   ]
  },
  {
   "cell_type": "code",
   "execution_count": 11,
   "metadata": {},
   "outputs": [],
   "source": [
    "vcfA_filled = fill_coverage_info_in_vcfs(vcfA, covA)\n",
    "vcfA_filled.to_csv(savepath + folders[0] + '\\\\vcfA_filled.csv')"
   ]
  },
  {
   "cell_type": "code",
   "execution_count": null,
   "metadata": {},
   "outputs": [],
   "source": [
    "vcfB_filled = fill_coverage_info_in_vcfs(vcfB, covB)\n",
    "vcfB_filled.to_csv(savepath + folders[1] + '\\\\vcfB_filled.csv')"
   ]
  },
  {
   "cell_type": "code",
   "execution_count": 13,
   "metadata": {},
   "outputs": [],
   "source": [
    "vcfC_filled = fill_coverage_info_in_vcfs(vcfC, covC)\n",
    "vcfC_filled.to_csv(savepath + folders[2] + '\\\\vcfC_filled.csv')"
   ]
  },
  {
   "cell_type": "code",
   "execution_count": 14,
   "metadata": {},
   "outputs": [],
   "source": [
    "vcfD_filled = fill_coverage_info_in_vcfs(vcfD, covD)\n",
    "vcfD_filled.to_csv(savepath + folders[3] + '\\\\vcfD_filled.csv')"
   ]
  },
  {
   "cell_type": "code",
   "execution_count": null,
   "metadata": {},
   "outputs": [],
   "source": [
    "vcfE_filled = fill_coverage_info_in_vcfs(vcfE, covE)\n",
    "vcfE_filled.to_csv(savepath + folders[4] + '\\\\vcfE_filled.csv')"
   ]
  },
  {
   "cell_type": "code",
   "execution_count": null,
   "metadata": {},
   "outputs": [],
   "source": [
    "vcfF_filled = fill_coverage_info_in_vcfs(vcfF, covF)\n",
    "vcfF_filled.to_csv(savepath + folders[5] + '\\\\vcfF_filled.csv')"
   ]
  },
  {
   "cell_type": "code",
   "execution_count": null,
   "metadata": {},
   "outputs": [],
   "source": [
    "vcfG_filled = fill_coverage_info_in_vcfs(vcfG, covG)\n",
    "vcfG_filled.to_csv(savepath + folders[6] + '\\\\vcfG_filled.csv')"
   ]
  },
  {
   "cell_type": "code",
   "execution_count": 6,
   "metadata": {},
   "outputs": [
    {
     "ename": "KeyboardInterrupt",
     "evalue": "",
     "output_type": "error",
     "traceback": [
      "\u001b[1;31m---------------------------------------------------------------------------\u001b[0m",
      "\u001b[1;31mKeyboardInterrupt\u001b[0m                         Traceback (most recent call last)",
      "\u001b[1;32m<ipython-input-6-25c8baba96e5>\u001b[0m in \u001b[0;36m<module>\u001b[1;34m()\u001b[0m\n\u001b[0;32m      1\u001b[0m \u001b[0mvcfA_filled\u001b[0m \u001b[1;33m=\u001b[0m \u001b[0mfill_coverage_info_in_vcfs\u001b[0m\u001b[1;33m(\u001b[0m\u001b[0mvcfA\u001b[0m\u001b[1;33m,\u001b[0m \u001b[0mcovA\u001b[0m\u001b[1;33m)\u001b[0m\u001b[1;33m\u001b[0m\u001b[0m\n\u001b[1;32m----> 2\u001b[1;33m \u001b[0mvcfB_filled\u001b[0m \u001b[1;33m=\u001b[0m \u001b[0mfill_coverage_info_in_vcfs\u001b[0m\u001b[1;33m(\u001b[0m\u001b[0mvcfB\u001b[0m\u001b[1;33m,\u001b[0m \u001b[0mcovB\u001b[0m\u001b[1;33m)\u001b[0m\u001b[1;33m\u001b[0m\u001b[0m\n\u001b[0m\u001b[0;32m      3\u001b[0m \u001b[0mvcfC_filled\u001b[0m \u001b[1;33m=\u001b[0m \u001b[0mfill_coverage_info_in_vcfs\u001b[0m\u001b[1;33m(\u001b[0m\u001b[0mvcfC\u001b[0m\u001b[1;33m,\u001b[0m \u001b[0mcovC\u001b[0m\u001b[1;33m)\u001b[0m\u001b[1;33m\u001b[0m\u001b[0m\n\u001b[0;32m      4\u001b[0m \u001b[0mvcfD_filled\u001b[0m \u001b[1;33m=\u001b[0m \u001b[0mfill_coverage_info_in_vcfs\u001b[0m\u001b[1;33m(\u001b[0m\u001b[0mvcfD\u001b[0m\u001b[1;33m,\u001b[0m \u001b[0mcovD\u001b[0m\u001b[1;33m)\u001b[0m\u001b[1;33m\u001b[0m\u001b[0m\n\u001b[0;32m      5\u001b[0m \u001b[0mvcfE_filled\u001b[0m \u001b[1;33m=\u001b[0m \u001b[0mfill_coverage_info_in_vcfs\u001b[0m\u001b[1;33m(\u001b[0m\u001b[0mvcfE\u001b[0m\u001b[1;33m,\u001b[0m \u001b[0mcovE\u001b[0m\u001b[1;33m)\u001b[0m\u001b[1;33m\u001b[0m\u001b[0m\n",
      "\u001b[1;32m<ipython-input-5-048117c6587f>\u001b[0m in \u001b[0;36mfill_coverage_info_in_vcfs\u001b[1;34m(vcf, coverage_file)\u001b[0m\n\u001b[0;32m     23\u001b[0m         \u001b[0mcoverage_mean\u001b[0m \u001b[1;33m=\u001b[0m \u001b[1;33m[\u001b[0m\u001b[1;33m]\u001b[0m\u001b[1;33m\u001b[0m\u001b[0m\n\u001b[0;32m     24\u001b[0m         \u001b[1;32mfor\u001b[0m \u001b[0mpos\u001b[0m \u001b[1;32min\u001b[0m \u001b[0mrange_pos\u001b[0m\u001b[1;33m:\u001b[0m\u001b[1;33m\u001b[0m\u001b[0m\n\u001b[1;32m---> 25\u001b[1;33m             \u001b[0mpos_mask\u001b[0m \u001b[1;33m=\u001b[0m \u001b[0mcoverage_file\u001b[0m\u001b[1;33m[\u001b[0m\u001b[1;34m'Position'\u001b[0m\u001b[1;33m]\u001b[0m\u001b[1;33m.\u001b[0m\u001b[0misin\u001b[0m\u001b[1;33m(\u001b[0m\u001b[0mpos\u001b[0m\u001b[1;33m)\u001b[0m\u001b[1;33m\u001b[0m\u001b[0m\n\u001b[0m\u001b[0;32m     26\u001b[0m             \u001b[0mcoverage\u001b[0m \u001b[1;33m=\u001b[0m \u001b[0mcoverage_file\u001b[0m\u001b[1;33m.\u001b[0m\u001b[0mloc\u001b[0m\u001b[1;33m[\u001b[0m\u001b[0mpos_mask\u001b[0m\u001b[1;33m]\u001b[0m\u001b[1;33m[\u001b[0m\u001b[0mcol_\u001b[0m\u001b[1;33m]\u001b[0m\u001b[1;33m\u001b[0m\u001b[0m\n\u001b[0;32m     27\u001b[0m             \u001b[0mcoverage_mean\u001b[0m\u001b[1;33m.\u001b[0m\u001b[0mappend\u001b[0m\u001b[1;33m(\u001b[0m\u001b[0mround\u001b[0m\u001b[1;33m(\u001b[0m\u001b[0mnp\u001b[0m\u001b[1;33m.\u001b[0m\u001b[0mmean\u001b[0m\u001b[1;33m(\u001b[0m\u001b[0mcoverage\u001b[0m\u001b[1;33m)\u001b[0m\u001b[1;33m,\u001b[0m \u001b[1;36m0\u001b[0m\u001b[1;33m)\u001b[0m\u001b[1;33m)\u001b[0m\u001b[1;33m\u001b[0m\u001b[0m\n",
      "\u001b[1;32m~\\AppData\\Local\\Continuum\\anaconda3\\lib\\site-packages\\pandas\\core\\series.py\u001b[0m in \u001b[0;36misin\u001b[1;34m(self, values)\u001b[0m\n\u001b[0;32m   2801\u001b[0m \u001b[1;33m\u001b[0m\u001b[0m\n\u001b[0;32m   2802\u001b[0m         \"\"\"\n\u001b[1;32m-> 2803\u001b[1;33m         \u001b[0mresult\u001b[0m \u001b[1;33m=\u001b[0m \u001b[0malgorithms\u001b[0m\u001b[1;33m.\u001b[0m\u001b[0misin\u001b[0m\u001b[1;33m(\u001b[0m\u001b[0m_values_from_object\u001b[0m\u001b[1;33m(\u001b[0m\u001b[0mself\u001b[0m\u001b[1;33m)\u001b[0m\u001b[1;33m,\u001b[0m \u001b[0mvalues\u001b[0m\u001b[1;33m)\u001b[0m\u001b[1;33m\u001b[0m\u001b[0m\n\u001b[0m\u001b[0;32m   2804\u001b[0m         \u001b[1;32mreturn\u001b[0m \u001b[0mself\u001b[0m\u001b[1;33m.\u001b[0m\u001b[0m_constructor\u001b[0m\u001b[1;33m(\u001b[0m\u001b[0mresult\u001b[0m\u001b[1;33m,\u001b[0m \u001b[0mindex\u001b[0m\u001b[1;33m=\u001b[0m\u001b[0mself\u001b[0m\u001b[1;33m.\u001b[0m\u001b[0mindex\u001b[0m\u001b[1;33m)\u001b[0m\u001b[1;33m.\u001b[0m\u001b[0m__finalize__\u001b[0m\u001b[1;33m(\u001b[0m\u001b[0mself\u001b[0m\u001b[1;33m)\u001b[0m\u001b[1;33m\u001b[0m\u001b[0m\n\u001b[0;32m   2805\u001b[0m \u001b[1;33m\u001b[0m\u001b[0m\n",
      "\u001b[1;32m~\\AppData\\Local\\Continuum\\anaconda3\\lib\\site-packages\\pandas\\core\\algorithms.py\u001b[0m in \u001b[0;36misin\u001b[1;34m(comps, values)\u001b[0m\n\u001b[0;32m    433\u001b[0m             \u001b[0mcomps\u001b[0m \u001b[1;33m=\u001b[0m \u001b[0mcomps\u001b[0m\u001b[1;33m.\u001b[0m\u001b[0mastype\u001b[0m\u001b[1;33m(\u001b[0m\u001b[0mobject\u001b[0m\u001b[1;33m)\u001b[0m\u001b[1;33m\u001b[0m\u001b[0m\n\u001b[0;32m    434\u001b[0m \u001b[1;33m\u001b[0m\u001b[0m\n\u001b[1;32m--> 435\u001b[1;33m     \u001b[1;32mreturn\u001b[0m \u001b[0mf\u001b[0m\u001b[1;33m(\u001b[0m\u001b[0mcomps\u001b[0m\u001b[1;33m,\u001b[0m \u001b[0mvalues\u001b[0m\u001b[1;33m)\u001b[0m\u001b[1;33m\u001b[0m\u001b[0m\n\u001b[0m\u001b[0;32m    436\u001b[0m \u001b[1;33m\u001b[0m\u001b[0m\n\u001b[0;32m    437\u001b[0m \u001b[1;33m\u001b[0m\u001b[0m\n",
      "\u001b[1;32m~\\AppData\\Local\\Continuum\\anaconda3\\lib\\site-packages\\pandas\\core\\algorithms.py\u001b[0m in \u001b[0;36m<lambda>\u001b[1;34m(x, y)\u001b[0m\n\u001b[0;32m    413\u001b[0m     \u001b[1;31m# Ensure np.in1d doesn't get object types or it *may* throw an exception\u001b[0m\u001b[1;33m\u001b[0m\u001b[1;33m\u001b[0m\u001b[0m\n\u001b[0;32m    414\u001b[0m     \u001b[1;32mif\u001b[0m \u001b[0mlen\u001b[0m\u001b[1;33m(\u001b[0m\u001b[0mcomps\u001b[0m\u001b[1;33m)\u001b[0m \u001b[1;33m>\u001b[0m \u001b[1;36m1000000\u001b[0m \u001b[1;32mand\u001b[0m \u001b[1;32mnot\u001b[0m \u001b[0mis_object_dtype\u001b[0m\u001b[1;33m(\u001b[0m\u001b[0mcomps\u001b[0m\u001b[1;33m)\u001b[0m\u001b[1;33m:\u001b[0m\u001b[1;33m\u001b[0m\u001b[0m\n\u001b[1;32m--> 415\u001b[1;33m         \u001b[0mf\u001b[0m \u001b[1;33m=\u001b[0m \u001b[1;32mlambda\u001b[0m \u001b[0mx\u001b[0m\u001b[1;33m,\u001b[0m \u001b[0my\u001b[0m\u001b[1;33m:\u001b[0m \u001b[0mnp\u001b[0m\u001b[1;33m.\u001b[0m\u001b[0min1d\u001b[0m\u001b[1;33m(\u001b[0m\u001b[0mx\u001b[0m\u001b[1;33m,\u001b[0m \u001b[0my\u001b[0m\u001b[1;33m)\u001b[0m\u001b[1;33m\u001b[0m\u001b[0m\n\u001b[0m\u001b[0;32m    416\u001b[0m     \u001b[1;32melif\u001b[0m \u001b[0mis_integer_dtype\u001b[0m\u001b[1;33m(\u001b[0m\u001b[0mcomps\u001b[0m\u001b[1;33m)\u001b[0m\u001b[1;33m:\u001b[0m\u001b[1;33m\u001b[0m\u001b[0m\n\u001b[0;32m    417\u001b[0m         \u001b[1;32mtry\u001b[0m\u001b[1;33m:\u001b[0m\u001b[1;33m\u001b[0m\u001b[0m\n",
      "\u001b[1;32m~\\AppData\\Local\\Continuum\\anaconda3\\lib\\site-packages\\numpy\\lib\\arraysetops.py\u001b[0m in \u001b[0;36min1d\u001b[1;34m(ar1, ar2, assume_unique, invert)\u001b[0m\n\u001b[0;32m    464\u001b[0m             \u001b[0mmask\u001b[0m \u001b[1;33m=\u001b[0m \u001b[0mnp\u001b[0m\u001b[1;33m.\u001b[0m\u001b[0mzeros\u001b[0m\u001b[1;33m(\u001b[0m\u001b[0mlen\u001b[0m\u001b[1;33m(\u001b[0m\u001b[0mar1\u001b[0m\u001b[1;33m)\u001b[0m\u001b[1;33m,\u001b[0m \u001b[0mdtype\u001b[0m\u001b[1;33m=\u001b[0m\u001b[0mbool\u001b[0m\u001b[1;33m)\u001b[0m\u001b[1;33m\u001b[0m\u001b[0m\n\u001b[0;32m    465\u001b[0m             \u001b[1;32mfor\u001b[0m \u001b[0ma\u001b[0m \u001b[1;32min\u001b[0m \u001b[0mar2\u001b[0m\u001b[1;33m:\u001b[0m\u001b[1;33m\u001b[0m\u001b[0m\n\u001b[1;32m--> 466\u001b[1;33m                 \u001b[0mmask\u001b[0m \u001b[1;33m|=\u001b[0m \u001b[1;33m(\u001b[0m\u001b[0mar1\u001b[0m \u001b[1;33m==\u001b[0m \u001b[0ma\u001b[0m\u001b[1;33m)\u001b[0m\u001b[1;33m\u001b[0m\u001b[0m\n\u001b[0m\u001b[0;32m    467\u001b[0m         \u001b[1;32mreturn\u001b[0m \u001b[0mmask\u001b[0m\u001b[1;33m\u001b[0m\u001b[0m\n\u001b[0;32m    468\u001b[0m \u001b[1;33m\u001b[0m\u001b[0m\n",
      "\u001b[1;31mKeyboardInterrupt\u001b[0m: "
     ]
    }
   ],
   "source": [
    "vcfH_filled = fill_coverage_info_in_vcfs(vcfH, covH)\n",
    "vcfH_filled.to_csv(savepath + folders[7] + '\\\\vcfH_filled.csv')"
   ]
  },
  {
   "cell_type": "code",
   "execution_count": 8,
   "metadata": {},
   "outputs": [
    {
     "ename": "NameError",
     "evalue": "name 'vcfB_filled' is not defined",
     "output_type": "error",
     "traceback": [
      "\u001b[1;31m---------------------------------------------------------------------------\u001b[0m",
      "\u001b[1;31mNameError\u001b[0m                                 Traceback (most recent call last)",
      "\u001b[1;32m<ipython-input-8-9846b75b8aff>\u001b[0m in \u001b[0;36m<module>\u001b[1;34m()\u001b[0m\n\u001b[1;32m----> 1\u001b[1;33m \u001b[0mvcfB_filled\u001b[0m\u001b[1;33m.\u001b[0m\u001b[0mhead\u001b[0m\u001b[1;33m(\u001b[0m\u001b[1;36m5\u001b[0m\u001b[1;33m)\u001b[0m\u001b[1;33m\u001b[0m\u001b[0m\n\u001b[0m",
      "\u001b[1;31mNameError\u001b[0m: name 'vcfB_filled' is not defined"
     ]
    }
   ],
   "source": [
    "vcfB_filled.head(5)"
   ]
  },
  {
   "cell_type": "code",
   "execution_count": null,
   "metadata": {},
   "outputs": [],
   "source": [
    "\n",
    "\n",
    "\n",
    "\n",
    "\n",
    "\n",
    "\n",
    "\n"
   ]
  }
 ],
 "metadata": {
  "kernelspec": {
   "display_name": "Python 3",
   "language": "python",
   "name": "python3"
  },
  "language_info": {
   "codemirror_mode": {
    "name": "ipython",
    "version": 3
   },
   "file_extension": ".py",
   "mimetype": "text/x-python",
   "name": "python",
   "nbconvert_exporter": "python",
   "pygments_lexer": "ipython3",
   "version": "3.6.4"
  }
 },
 "nbformat": 4,
 "nbformat_minor": 2
}
